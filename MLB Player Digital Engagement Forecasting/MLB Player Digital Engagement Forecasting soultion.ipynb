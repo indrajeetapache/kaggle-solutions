{
 "cells": [
  {
   "cell_type": "code",
   "execution_count": 1,
   "id": "5fae1a6b",
   "metadata": {
    "_cell_guid": "b1076dfc-b9ad-4769-8c92-a6c4dae69d19",
    "_uuid": "8f2839f25d086af736a60e9eeb907d3b93b6e0e5",
    "execution": {
     "iopub.execute_input": "2023-05-06T09:03:08.140543Z",
     "iopub.status.busy": "2023-05-06T09:03:08.140080Z",
     "iopub.status.idle": "2023-05-06T09:03:12.288735Z",
     "shell.execute_reply": "2023-05-06T09:03:12.287497Z"
    },
    "papermill": {
     "duration": 4.157457,
     "end_time": "2023-05-06T09:03:12.291422",
     "exception": false,
     "start_time": "2023-05-06T09:03:08.133965",
     "status": "completed"
    },
    "tags": []
   },
   "outputs": [
    {
     "name": "stderr",
     "output_type": "stream",
     "text": [
      "/opt/conda/lib/python3.10/site-packages/scipy/__init__.py:146: UserWarning: A NumPy version >=1.16.5 and <1.23.0 is required for this version of SciPy (detected version 1.23.5\n",
      "  warnings.warn(f\"A NumPy version >={np_minversion} and <{np_maxversion}\"\n"
     ]
    },
    {
     "name": "stdout",
     "output_type": "stream",
     "text": [
      "/kaggle/input/mlb-player-digital-engagement-forecasting/players.csv\n",
      "/kaggle/input/mlb-player-digital-engagement-forecasting/example_sample_submission.csv\n",
      "/kaggle/input/mlb-player-digital-engagement-forecasting/teams.csv\n",
      "/kaggle/input/mlb-player-digital-engagement-forecasting/seasons.csv\n",
      "/kaggle/input/mlb-player-digital-engagement-forecasting/example_test.csv\n",
      "/kaggle/input/mlb-player-digital-engagement-forecasting/train_updated.csv\n",
      "/kaggle/input/mlb-player-digital-engagement-forecasting/train.csv\n",
      "/kaggle/input/mlb-player-digital-engagement-forecasting/awards.csv\n",
      "/kaggle/input/mlb-player-digital-engagement-forecasting/mlb/competition.cpython-37m-x86_64-linux-gnu.so\n",
      "/kaggle/input/mlb-player-digital-engagement-forecasting/mlb/__init__.py\n"
     ]
    }
   ],
   "source": [
    "# This Python 3 environment comes with many helpful analytics libraries installed\n",
    "# It is defined by the kaggle/python Docker image: https://github.com/kaggle/docker-python\n",
    "# For example, here's several helpful packages to load\n",
    "\n",
    "import numpy as np # linear algebra\n",
    "import pandas as pd # data processing, CSV file I/O (e.g. pd.read_csv)\n",
    "# import datatable as dt\n",
    "import numpy as np\n",
    "# import mlb\n",
    "import pickle as pkl\n",
    "from tqdm import tqdm\n",
    "from itertools import product\n",
    "import lightgbm as lgb\n",
    "from fuzzywuzzy import fuzz\n",
    "import re\n",
    "import numba as nb\n",
    "from numba import njit\n",
    "import xgboost as xgb\n",
    "# Input data files are available in the read-only \"../input/\" directory\n",
    "# For example, running this (by clicking run or pressing Shift+Enter) will list all files under the input directory\n",
    "\n",
    "import os\n",
    "for dirname, _, filenames in os.walk('/kaggle/input'):\n",
    "    for filename in filenames:\n",
    "        print(os.path.join(dirname, filename))\n",
    "\n",
    "# You can write up to 20GB to the current directory (/kaggle/working/) that gets preserved as output when you create a version using \"Save & Run All\" \n",
    "# You can also write temporary files to /kaggle/temp/, but they won't be saved outside of the current session"
   ]
  },
  {
   "cell_type": "code",
   "execution_count": 2,
   "id": "c5f89563",
   "metadata": {
    "execution": {
     "iopub.execute_input": "2023-05-06T09:03:12.299282Z",
     "iopub.status.busy": "2023-05-06T09:03:12.298844Z",
     "iopub.status.idle": "2023-05-06T09:03:12.306202Z",
     "shell.execute_reply": "2023-05-06T09:03:12.305468Z"
    },
    "papermill": {
     "duration": 0.013962,
     "end_time": "2023-05-06T09:03:12.308586",
     "exception": false,
     "start_time": "2023-05-06T09:03:12.294624",
     "status": "completed"
    },
    "tags": []
   },
   "outputs": [
    {
     "data": {
      "text/plain": [
       "' Required modules inatlling '"
      ]
     },
     "execution_count": 2,
     "metadata": {},
     "output_type": "execute_result"
    }
   ],
   "source": [
    "\"\"\" Required modules inatlling \"\"\"\n",
    "#!pip install pip --upgrade\n",
    "# !pip install MLB"
   ]
  },
  {
   "cell_type": "markdown",
   "id": "cf717de4",
   "metadata": {
    "papermill": {
     "duration": 0.002459,
     "end_time": "2023-05-06T09:03:12.313983",
     "exception": false,
     "start_time": "2023-05-06T09:03:12.311524",
     "status": "completed"
    },
    "tags": []
   },
   "source": [
    "\"\"\"\n",
    "Sample https://www.kaggle.com/code/brandenkmurray/mlb-predict-final/notebook\n",
    "\"\"\"\""
   ]
  },
  {
   "cell_type": "markdown",
   "id": "2740b0a4",
   "metadata": {
    "papermill": {
     "duration": 0.002239,
     "end_time": "2023-05-06T09:03:12.318780",
     "exception": false,
     "start_time": "2023-05-06T09:03:12.316541",
     "status": "completed"
    },
    "tags": []
   },
   "source": [
    "** Data read started **"
   ]
  },
  {
   "cell_type": "code",
   "execution_count": 3,
   "id": "08aa204f",
   "metadata": {
    "execution": {
     "iopub.execute_input": "2023-05-06T09:03:12.326388Z",
     "iopub.status.busy": "2023-05-06T09:03:12.325407Z",
     "iopub.status.idle": "2023-05-06T09:05:03.862801Z",
     "shell.execute_reply": "2023-05-06T09:05:03.861501Z"
    },
    "papermill": {
     "duration": 111.544375,
     "end_time": "2023-05-06T09:05:03.865613",
     "exception": false,
     "start_time": "2023-05-06T09:03:12.321238",
     "status": "completed"
    },
    "tags": []
   },
   "outputs": [],
   "source": [
    "train = pd.read_csv(\"../input/mlb-player-digital-engagement-forecasting/train_updated.csv\")\n",
    "test = True"
   ]
  },
  {
   "cell_type": "code",
   "execution_count": 4,
   "id": "6c9ae919",
   "metadata": {
    "execution": {
     "iopub.execute_input": "2023-05-06T09:05:03.873882Z",
     "iopub.status.busy": "2023-05-06T09:05:03.873488Z",
     "iopub.status.idle": "2023-05-06T09:05:03.885782Z",
     "shell.execute_reply": "2023-05-06T09:05:03.884606Z"
    },
    "papermill": {
     "duration": 0.019565,
     "end_time": "2023-05-06T09:05:03.888383",
     "exception": false,
     "start_time": "2023-05-06T09:05:03.868818",
     "status": "completed"
    },
    "tags": []
   },
   "outputs": [
    {
     "name": "stdout",
     "output_type": "stream",
     "text": [
      " last date : 20210731\n"
     ]
    }
   ],
   "source": [
    "if test:\n",
    "    last_date = train['date'].max()\n",
    "else:\n",
    "    last_date = 20210430\n",
    "print(\" last date : {}\".format(last_date))"
   ]
  },
  {
   "cell_type": "code",
   "execution_count": null,
   "id": "dd7c50fd",
   "metadata": {
    "papermill": {
     "duration": 0.002707,
     "end_time": "2023-05-06T09:05:03.894217",
     "exception": false,
     "start_time": "2023-05-06T09:05:03.891510",
     "status": "completed"
    },
    "tags": []
   },
   "outputs": [],
   "source": []
  }
 ],
 "metadata": {
  "kernelspec": {
   "display_name": "Python 3",
   "language": "python",
   "name": "python3"
  },
  "language_info": {
   "codemirror_mode": {
    "name": "ipython",
    "version": 3
   },
   "file_extension": ".py",
   "mimetype": "text/x-python",
   "name": "python",
   "nbconvert_exporter": "python",
   "pygments_lexer": "ipython3",
   "version": "3.10.10"
  },
  "papermill": {
   "default_parameters": {},
   "duration": 128.029955,
   "end_time": "2023-05-06T09:05:05.423645",
   "environment_variables": {},
   "exception": null,
   "input_path": "__notebook__.ipynb",
   "output_path": "__notebook__.ipynb",
   "parameters": {},
   "start_time": "2023-05-06T09:02:57.393690",
   "version": "2.4.0"
  }
 },
 "nbformat": 4,
 "nbformat_minor": 5
}
