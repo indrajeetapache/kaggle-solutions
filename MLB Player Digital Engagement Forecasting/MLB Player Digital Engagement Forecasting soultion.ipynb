{
 "cells": [
  {
   "cell_type": "code",
   "execution_count": 1,
   "id": "8c281d0d",
   "metadata": {
    "_cell_guid": "b1076dfc-b9ad-4769-8c92-a6c4dae69d19",
    "_uuid": "8f2839f25d086af736a60e9eeb907d3b93b6e0e5",
    "execution": {
     "iopub.execute_input": "2023-05-06T16:46:37.535149Z",
     "iopub.status.busy": "2023-05-06T16:46:37.534211Z",
     "iopub.status.idle": "2023-05-06T16:46:41.644968Z",
     "shell.execute_reply": "2023-05-06T16:46:41.643697Z"
    },
    "papermill": {
     "duration": 4.121155,
     "end_time": "2023-05-06T16:46:41.648506",
     "exception": false,
     "start_time": "2023-05-06T16:46:37.527351",
     "status": "completed"
    },
    "tags": []
   },
   "outputs": [
    {
     "name": "stderr",
     "output_type": "stream",
     "text": [
      "/opt/conda/lib/python3.10/site-packages/scipy/__init__.py:146: UserWarning: A NumPy version >=1.16.5 and <1.23.0 is required for this version of SciPy (detected version 1.23.5\n",
      "  warnings.warn(f\"A NumPy version >={np_minversion} and <{np_maxversion}\"\n"
     ]
    },
    {
     "name": "stdout",
     "output_type": "stream",
     "text": [
      "/kaggle/input/mlb-player-digital-engagement-forecasting/players.csv\n",
      "/kaggle/input/mlb-player-digital-engagement-forecasting/example_sample_submission.csv\n",
      "/kaggle/input/mlb-player-digital-engagement-forecasting/teams.csv\n",
      "/kaggle/input/mlb-player-digital-engagement-forecasting/seasons.csv\n",
      "/kaggle/input/mlb-player-digital-engagement-forecasting/example_test.csv\n",
      "/kaggle/input/mlb-player-digital-engagement-forecasting/train_updated.csv\n",
      "/kaggle/input/mlb-player-digital-engagement-forecasting/train.csv\n",
      "/kaggle/input/mlb-player-digital-engagement-forecasting/awards.csv\n",
      "/kaggle/input/mlb-player-digital-engagement-forecasting/mlb/competition.cpython-37m-x86_64-linux-gnu.so\n",
      "/kaggle/input/mlb-player-digital-engagement-forecasting/mlb/__init__.py\n"
     ]
    }
   ],
   "source": [
    "# This Python 3 environment comes with many helpful analytics libraries installed\n",
    "# It is defined by the kaggle/python Docker image: https://github.com/kaggle/docker-python\n",
    "# For example, here's several helpful packages to load\n",
    "\n",
    "import numpy as np # linear algebra\n",
    "import pandas as pd # data processing, CSV file I/O (e.g. pd.read_csv)\n",
    "# import datatable as dt\n",
    "import numpy as np\n",
    "# import mlb\n",
    "import pickle as pkl\n",
    "from tqdm import tqdm\n",
    "from itertools import product\n",
    "import lightgbm as lgb\n",
    "from fuzzywuzzy import fuzz\n",
    "import re\n",
    "import numba as nb\n",
    "from numba import njit\n",
    "import xgboost as xgb\n",
    "# Input data files are available in the read-only \"../input/\" directory\n",
    "# For example, running this (by clicking run or pressing Shift+Enter) will list all files under the input directory\n",
    "\n",
    "import os\n",
    "for dirname, _, filenames in os.walk('/kaggle/input'):\n",
    "    for filename in filenames:\n",
    "        print(os.path.join(dirname, filename))\n",
    "\n",
    "# You can write up to 20GB to the current directory (/kaggle/working/) that gets preserved as output when you create a version using \"Save & Run All\" \n",
    "# You can also write temporary files to /kaggle/temp/, but they won't be saved outside of the current session"
   ]
  },
  {
   "cell_type": "code",
   "execution_count": 2,
   "id": "e8cf9ef3",
   "metadata": {
    "execution": {
     "iopub.execute_input": "2023-05-06T16:46:41.659116Z",
     "iopub.status.busy": "2023-05-06T16:46:41.658539Z",
     "iopub.status.idle": "2023-05-06T16:46:41.667991Z",
     "shell.execute_reply": "2023-05-06T16:46:41.666713Z"
    },
    "papermill": {
     "duration": 0.017458,
     "end_time": "2023-05-06T16:46:41.670331",
     "exception": false,
     "start_time": "2023-05-06T16:46:41.652873",
     "status": "completed"
    },
    "tags": []
   },
   "outputs": [
    {
     "data": {
      "text/plain": [
       "' Required modules inatlling '"
      ]
     },
     "execution_count": 2,
     "metadata": {},
     "output_type": "execute_result"
    }
   ],
   "source": [
    "\"\"\" Required modules inatlling \"\"\"\n",
    "#!pip install pip --upgrade\n",
    "# !pip install MLB"
   ]
  },
  {
   "cell_type": "markdown",
   "id": "08c997b3",
   "metadata": {
    "papermill": {
     "duration": 0.003698,
     "end_time": "2023-05-06T16:46:41.678079",
     "exception": false,
     "start_time": "2023-05-06T16:46:41.674381",
     "status": "completed"
    },
    "tags": []
   },
   "source": [
    "\"\"\"\n",
    "Sample https://www.kaggle.com/code/brandenkmurray/mlb-predict-final/notebook\n",
    "\"\"\"\""
   ]
  },
  {
   "cell_type": "markdown",
   "id": "928d958a",
   "metadata": {
    "papermill": {
     "duration": 0.003481,
     "end_time": "2023-05-06T16:46:41.685628",
     "exception": false,
     "start_time": "2023-05-06T16:46:41.682147",
     "status": "completed"
    },
    "tags": []
   },
   "source": [
    "** Data read started **"
   ]
  },
  {
   "cell_type": "code",
   "execution_count": 3,
   "id": "c1e4b41a",
   "metadata": {
    "execution": {
     "iopub.execute_input": "2023-05-06T16:46:41.695140Z",
     "iopub.status.busy": "2023-05-06T16:46:41.694677Z",
     "iopub.status.idle": "2023-05-06T16:48:16.077313Z",
     "shell.execute_reply": "2023-05-06T16:48:16.076299Z"
    },
    "papermill": {
     "duration": 94.390725,
     "end_time": "2023-05-06T16:48:16.080112",
     "exception": false,
     "start_time": "2023-05-06T16:46:41.689387",
     "status": "completed"
    },
    "tags": []
   },
   "outputs": [],
   "source": [
    "train = pd.read_csv(\"../input/mlb-player-digital-engagement-forecasting/train_updated.csv\")\n",
    "test = True"
   ]
  },
  {
   "cell_type": "code",
   "execution_count": 4,
   "id": "0e4f5528",
   "metadata": {
    "execution": {
     "iopub.execute_input": "2023-05-06T16:48:16.090466Z",
     "iopub.status.busy": "2023-05-06T16:48:16.089367Z",
     "iopub.status.idle": "2023-05-06T16:48:16.101269Z",
     "shell.execute_reply": "2023-05-06T16:48:16.099953Z"
    },
    "papermill": {
     "duration": 0.019621,
     "end_time": "2023-05-06T16:48:16.103690",
     "exception": false,
     "start_time": "2023-05-06T16:48:16.084069",
     "status": "completed"
    },
    "tags": []
   },
   "outputs": [
    {
     "name": "stdout",
     "output_type": "stream",
     "text": [
      " last date : 20210731\n"
     ]
    }
   ],
   "source": [
    "if test:\n",
    "    last_date = train['date'].max()\n",
    "else:\n",
    "    last_date = 20210430\n",
    "print(\" last date : {}\".format(last_date))"
   ]
  },
  {
   "cell_type": "markdown",
   "id": "2232089c",
   "metadata": {
    "papermill": {
     "duration": 0.003353,
     "end_time": "2023-05-06T16:48:16.110815",
     "exception": false,
     "start_time": "2023-05-06T16:48:16.107462",
     "status": "completed"
    },
    "tags": []
   },
   "source": [
    "**SAMPLE DATA**\n",
    "\n",
    "**EDA**"
   ]
  },
  {
   "cell_type": "code",
   "execution_count": 5,
   "id": "40efaf72",
   "metadata": {
    "execution": {
     "iopub.execute_input": "2023-05-06T16:48:16.119927Z",
     "iopub.status.busy": "2023-05-06T16:48:16.119497Z",
     "iopub.status.idle": "2023-05-06T16:48:16.152674Z",
     "shell.execute_reply": "2023-05-06T16:48:16.151274Z"
    },
    "papermill": {
     "duration": 0.041571,
     "end_time": "2023-05-06T16:48:16.155944",
     "exception": false,
     "start_time": "2023-05-06T16:48:16.114373",
     "status": "completed"
    },
    "tags": []
   },
   "outputs": [
    {
     "name": "stdout",
     "output_type": "stream",
     "text": [
      "\n",
      " Shape of data \n",
      "\n",
      "==========================================================================================\n",
      "(1308, 12)\n",
      "==========================================================================================\n",
      "\n",
      " NUmber of columns \n",
      "==========================================================================================\n",
      "Index(['date', 'nextDayPlayerEngagement', 'games', 'rosters',\n",
      "       'playerBoxScores', 'teamBoxScores', 'transactions', 'standings',\n",
      "       'awards', 'events', 'playerTwitterFollowers', 'teamTwitterFollowers'],\n",
      "      dtype='object')\n",
      "==========================================================================================\n",
      "<class 'pandas.core.frame.DataFrame'>\n",
      "RangeIndex: 1308 entries, 0 to 1307\n",
      "Data columns (total 12 columns):\n",
      " #   Column                   Non-Null Count  Dtype \n",
      "---  ------                   --------------  ----- \n",
      " 0   date                     1308 non-null   int64 \n",
      " 1   nextDayPlayerEngagement  1308 non-null   object\n",
      " 2   games                    729 non-null    object\n",
      " 3   rosters                  1307 non-null   object\n",
      " 4   playerBoxScores          627 non-null    object\n",
      " 5   teamBoxScores            627 non-null    object\n",
      " 6   transactions             1194 non-null   object\n",
      " 7   standings                623 non-null    object\n",
      " 8   awards                   309 non-null    object\n",
      " 9   events                   624 non-null    object\n",
      " 10  playerTwitterFollowers   43 non-null     object\n",
      " 11  teamTwitterFollowers     43 non-null     object\n",
      "dtypes: int64(1), object(11)\n",
      "memory usage: 122.8+ KB\n",
      "None\n",
      "==========================================================================================\n"
     ]
    }
   ],
   "source": [
    "print(\"\\n Shape of data \\n\")\n",
    "print(\"===\"*30)\n",
    "print(train.shape)\n",
    "print(\"===\"*30)\n",
    "print(\"\\n NUmber of columns \")\n",
    "print(\"===\"*30)\n",
    "print(train.columns)\n",
    "print(\"===\"*30)\n",
    "print(train.info())\n",
    "print(\"===\"*30)"
   ]
  },
  {
   "cell_type": "code",
   "execution_count": 6,
   "id": "2b228f40",
   "metadata": {
    "execution": {
     "iopub.execute_input": "2023-05-06T16:48:16.166003Z",
     "iopub.status.busy": "2023-05-06T16:48:16.165581Z",
     "iopub.status.idle": "2023-05-06T16:48:16.173398Z",
     "shell.execute_reply": "2023-05-06T16:48:16.172074Z"
    },
    "papermill": {
     "duration": 0.015771,
     "end_time": "2023-05-06T16:48:16.175777",
     "exception": false,
     "start_time": "2023-05-06T16:48:16.160006",
     "status": "completed"
    },
    "tags": []
   },
   "outputs": [],
   "source": [
    "date_nested_table_t = train[['date', \"nextDayPlayerEngagement\"]]"
   ]
  },
  {
   "cell_type": "markdown",
   "id": "f46c7ab4",
   "metadata": {
    "papermill": {
     "duration": 0.00369,
     "end_time": "2023-05-06T16:48:16.183680",
     "exception": false,
     "start_time": "2023-05-06T16:48:16.179990",
     "status": "completed"
    },
    "tags": []
   },
   "source": [
    "**Utility Functions**"
   ]
  },
  {
   "cell_type": "code",
   "execution_count": 7,
   "id": "78df3b2a",
   "metadata": {
    "execution": {
     "iopub.execute_input": "2023-05-06T16:48:16.193805Z",
     "iopub.status.busy": "2023-05-06T16:48:16.193302Z",
     "iopub.status.idle": "2023-05-06T16:48:16.200837Z",
     "shell.execute_reply": "2023-05-06T16:48:16.199964Z"
    },
    "papermill": {
     "duration": 0.015018,
     "end_time": "2023-05-06T16:48:16.202778",
     "exception": false,
     "start_time": "2023-05-06T16:48:16.187760",
     "status": "completed"
    },
    "tags": []
   },
   "outputs": [],
   "source": [
    "def unnest(data, name):\n",
    "    try:\n",
    "        date_nested_table = data[['date', name]]\n",
    "\n",
    "        date_nested_table = (date_nested_table[\n",
    "          ~pd.isna(date_nested_table[name])\n",
    "          ].\n",
    "          reset_index(drop = True)\n",
    "          )\n",
    "\n",
    "        daily_dfs_collection = []\n",
    "        print(\"\\n daily_dfs_collection started \")\n",
    "        for date_index, date_row in date_nested_table.iterrows():\n",
    "            daily_df = pd.read_json(date_row[name])\n",
    "\n",
    "            daily_df['dailyDataDate'] = date_row['date']\n",
    "\n",
    "            daily_dfs_collection = daily_dfs_collection + [daily_df]\n",
    "\n",
    "        if daily_dfs_collection:\n",
    "            # Concatenate all daily dfs into single df for each row\n",
    "            unnested_table = (pd.concat(daily_dfs_collection,\n",
    "              ignore_index = True).\n",
    "              # Set and reset index to move 'dailyDataDate' to front of df\n",
    "              set_index('dailyDataDate').\n",
    "              reset_index()\n",
    "              )\n",
    "            return reduce_mem_usage(unnested_table, False)\n",
    "        else:\n",
    "            return pd.DataFrame()\n",
    "    except Exception as e:\n",
    "        print(e)\n",
    "        print(f'unnest failed for {name}. returning empty dataframe')\n",
    "        return pd.DataFrame()"
   ]
  },
  {
   "cell_type": "code",
   "execution_count": null,
   "id": "d4451c39",
   "metadata": {
    "papermill": {
     "duration": 0.003667,
     "end_time": "2023-05-06T16:48:16.210534",
     "exception": false,
     "start_time": "2023-05-06T16:48:16.206867",
     "status": "completed"
    },
    "tags": []
   },
   "outputs": [],
   "source": []
  }
 ],
 "metadata": {
  "kernelspec": {
   "display_name": "Python 3",
   "language": "python",
   "name": "python3"
  },
  "language_info": {
   "codemirror_mode": {
    "name": "ipython",
    "version": 3
   },
   "file_extension": ".py",
   "mimetype": "text/x-python",
   "name": "python",
   "nbconvert_exporter": "python",
   "pygments_lexer": "ipython3",
   "version": "3.10.10"
  },
  "papermill": {
   "default_parameters": {},
   "duration": 110.971187,
   "end_time": "2023-05-06T16:48:17.739998",
   "environment_variables": {},
   "exception": null,
   "input_path": "__notebook__.ipynb",
   "output_path": "__notebook__.ipynb",
   "parameters": {},
   "start_time": "2023-05-06T16:46:26.768811",
   "version": "2.4.0"
  }
 },
 "nbformat": 4,
 "nbformat_minor": 5
}
