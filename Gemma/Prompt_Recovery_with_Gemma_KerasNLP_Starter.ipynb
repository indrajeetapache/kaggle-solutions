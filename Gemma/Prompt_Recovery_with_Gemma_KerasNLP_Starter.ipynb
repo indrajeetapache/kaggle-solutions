{
  "nbformat": 4,
  "nbformat_minor": 0,
  "metadata": {
    "colab": {
      "provenance": [],
      "authorship_tag": "ABX9TyPBHkzjezL3khJLzDMG6I2Z",
      "include_colab_link": true
    },
    "kernelspec": {
      "name": "python3",
      "display_name": "Python 3"
    },
    "language_info": {
      "name": "python"
    }
  },
  "cells": [
    {
      "cell_type": "markdown",
      "metadata": {
        "id": "view-in-github",
        "colab_type": "text"
      },
      "source": [
        "<a href=\"https://colab.research.google.com/github/indrajeetapache/kaggle-solutions/blob/main/Gemma/Prompt_Recovery_with_Gemma_KerasNLP_Starter.ipynb\" target=\"_parent\"><img src=\"https://colab.research.google.com/assets/colab-badge.svg\" alt=\"Open In Colab\"/></a>"
      ]
    },
    {
      "cell_type": "code",
      "execution_count": 3,
      "metadata": {
        "id": "Lrrz_jZElqeR"
      },
      "outputs": [],
      "source": [
        "import kagglehub\n",
        "import os\n",
        "from getpass import getpass\n"
      ]
    },
    {
      "cell_type": "markdown",
      "source": [
        "**Login to kaggle**"
      ],
      "metadata": {
        "id": "81BPn_c3mqCM"
      }
    },
    {
      "cell_type": "code",
      "source": [
        "os.environ[\"KAGGLE_USERNAME\"] = getpass('Enter your Kaggle username')\n",
        "os.environ[\"KAGGLE_KEY\"] = getpass('Enter your Kaggle key')\n"
      ],
      "metadata": {
        "id": "VlXnsM6blxah"
      },
      "execution_count": null,
      "outputs": []
    }
  ]
}